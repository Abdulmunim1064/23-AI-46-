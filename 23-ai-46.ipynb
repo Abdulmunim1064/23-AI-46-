{
  "nbformat": 4,
  "nbformat_minor": 0,
  "metadata": {
    "colab": {
      "provenance": []
    },
    "kernelspec": {
      "name": "python3",
      "display_name": "Python 3"
    },
    "language_info": {
      "name": "python"
    }
  },
  "cells": [
    {
      "cell_type": "code",
      "execution_count": 7,
      "metadata": {
        "id": "pjPsNAmq4nlt"
      },
      "outputs": [],
      "source": [
        "import pandas as pd\n",
        "df = pd.read_csv('shelter_data.csv')"
      ]
    },
    {
      "cell_type": "code",
      "source": [
        "print(\"Shelters with capacity less than 200:\")\n",
        "print(df[df['capacity'] < 200])"
      ],
      "metadata": {
        "colab": {
          "base_uri": "https://localhost:8080/"
        },
        "id": "31McVOTq9_pv",
        "outputId": "47c04f21-38d8-4b82-b1ec-79ea3c6d08f8"
      },
      "execution_count": 6,
      "outputs": [
        {
          "output_type": "stream",
          "name": "stdout",
          "text": [
            "Shelters with capacity less than 200:\n",
            "  shelter_id  shelter_name  capacity\n",
            "1         S2  Beta Shelter       150\n",
            "3         S4  Echo Shelter       100\n"
          ]
        }
      ]
    },
    {
      "cell_type": "code",
      "source": [
        "highest_capacity =df['capacity'].max()\n",
        "print(\"\\nShelter with the highest capacity:\")\n",
        "print(highest_capacity)"
      ],
      "metadata": {
        "colab": {
          "base_uri": "https://localhost:8080/"
        },
        "id": "dORtwyYo-Nlj",
        "outputId": "4e2958be-5c99-4b77-bee0-04bf4a128b5d"
      },
      "execution_count": 9,
      "outputs": [
        {
          "output_type": "stream",
          "name": "stdout",
          "text": [
            "\n",
            "Shelter with the highest capacity:\n",
            "300\n"
          ]
        }
      ]
    },
    {
      "cell_type": "code",
      "source": [
        "from collections import deque\n",
        "\n",
        "def find_reachable_shelters(roads, start):\n",
        "  visited=set()\n",
        "  queue=deque([start])\n",
        "  visited.add(start)\n",
        "  while queue:\n",
        "    vertex=queue.popleft()\n",
        "    visited.add(vertex)\n",
        "    for i in roads[vertex]:\n",
        "      if i not in visited:\n",
        "          queue.append(i)\n",
        "  return visited\n",
        "roads = {\n",
        " 'S1': ['S2', 'S3'],\n",
        " 'S2': ['S1', 'S4'],\n",
        " 'S3': ['S1', 'S5'],\n",
        " 'S4': ['S2'],\n",
        " 'S5': ['S3']\n",
        "}\n",
        "visted=find_reachable_shelters(roads,'S2')\n",
        "print(visted)\n",
        "print(find_reachable_shelters(roads,'S1'))"
      ],
      "metadata": {
        "colab": {
          "base_uri": "https://localhost:8080/"
        },
        "id": "ZoURe6py-hTp",
        "outputId": "67ced060-0127-493b-cfa4-61e6095e237d"
      },
      "execution_count": 15,
      "outputs": [
        {
          "output_type": "stream",
          "name": "stdout",
          "text": [
            "{'S5', 'S1', 'S4', 'S3', 'S2'}\n",
            "{'S5', 'S1', 'S4', 'S3', 'S2'}\n"
          ]
        }
      ]
    },
    {
      "cell_type": "code",
      "source": [
        "import networkx as nx\n",
        "roads = {\n",
        " 'S1': ['S2', 'S3'],\n",
        " 'S2': ['S1', 'S4'],\n",
        " 'S3': ['S1', 'S5'],\n",
        " 'S4': ['S2'],\n",
        " 'S5': ['S3']\n",
        "}\n",
        "g=nx.Graph(roads)\n"
      ],
      "metadata": {
        "colab": {
          "base_uri": "https://localhost:8080/",
          "height": 516
        },
        "id": "L6-2ZMMtAu4t",
        "outputId": "c1e2bf89-11e0-4cea-a6bd-484d4df6727c"
      },
      "execution_count": 24,
      "outputs": [
        {
          "output_type": "display_data",
          "data": {
            "text/plain": [
              "<Figure size 640x480 with 1 Axes>"
            ],
            "image/png": "[encoded data removed]"
          },
          "metadata": {}
        }
      ]
    },
    {
      "cell_type": "code",
      "source": [],
      "metadata": {
        "id": "X3Ug3VZaB2pA"
      },
      "execution_count": null,
      "outputs": []
    }
  ]
}